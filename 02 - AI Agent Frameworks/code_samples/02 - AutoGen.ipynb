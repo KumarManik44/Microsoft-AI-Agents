{
 "cells": [
  {
   "cell_type": "code",
   "execution_count": 4,
   "id": "b0c95120-6f39-472e-a5d7-c15dacf2bca6",
   "metadata": {},
   "outputs": [],
   "source": [
    "# Import libraries\n",
    "from autogen_agentchat.agents import AssistantAgent\n",
    "from autogen_core.models import UserMessage\n",
    "from autogen_ext.models.azure import AzureAIChatCompletionClient\n",
    "from azure.core.credentials import AzureKeyCredential\n",
    "from autogen_core import CancellationToken\n",
    "\n",
    "from autogen_agentchat.messages import TextMessage\n",
    "from autogen_agentchat.ui import Console"
   ]
  },
  {
   "cell_type": "code",
   "execution_count": 8,
   "id": "b58e8f27-4fe9-4bd2-8819-9ebf91876601",
   "metadata": {},
   "outputs": [
    {
     "name": "stdout",
     "output_type": "stream",
     "text": [
      "finish_reason='stop' content='The capital of France is Paris.' usage=RequestUsage(prompt_tokens=14, completion_tokens=8) cached=False logprobs=None thought=None\n"
     ]
    }
   ],
   "source": [
    "# Create the client\n",
    "client = AzureAIChatCompletionClient(\n",
    "   model=\"gpt-4o-mini\",\n",
    "   endpoint=\"https://models.inference.ai.azure.com\",\n",
    "   # To authenticate with the model you will need to generate a personal access token (PAT) in your GitHub settings.\n",
    "   # Create your PAT token by following instructions here: https://docs.github.com/en/authentication/keeping-your-account-and-data-secure/managing-your-personal-access-tokens\n",
    "   credential=AzureKeyCredential(\"your_actual_github_token_here\"),\n",
    "   model_info={\n",
    "       \"json_output\": True,\n",
    "       \"function_calling\": True,\n",
    "       \"vision\": True,\n",
    "       \"family\": \"unknown\",\n",
    "       \"structured_output\": True,\n",
    "   },\n",
    ")\n",
    "\n",
    "result = await client.create([UserMessage(content=\"What is the capital of France?\", source=\"user\")])\n",
    "print(result)"
   ]
  },
  {
   "cell_type": "code",
   "execution_count": 9,
   "id": "613fc9a3-5ba6-49f8-be7f-9406d80725d3",
   "metadata": {},
   "outputs": [],
   "source": [
    "# Define the Agent\n",
    "agent = AssistantAgent(\n",
    "    name=\"assistant\",\n",
    "    model_client=client,\n",
    "    tools=[],\n",
    "    system_message=\"You are a travel agent that plans great vacations\",\n",
    ")"
   ]
  },
  {
   "cell_type": "code",
   "execution_count": 10,
   "id": "8da47b0a-1c56-4fd7-b6a9-e13c9790cf5a",
   "metadata": {},
   "outputs": [
    {
     "data": {
      "text/html": [
       "<div style='margin-bottom:10px'><div style='font-weight:bold'>User:</div><div style='margin-left:20px'>Plan me a great sunny vacation</div></div><div style='margin-bottom:20px'><div style='font-weight:bold'>Assistant:</div><div style='margin-left:20px; white-space:pre-wrap'>Sure! Here’s a plan for a sun-soaked getaway. Let's focus on a week-long trip to a tropical destination that offers beautiful beaches, warm weather, and plenty of activities. How about **Maui, Hawaii**? \n",
       "\n",
       "### Destination: Maui, Hawaii\n",
       "\n",
       "#### Duration: 7 Days\n",
       "\n",
       "#### Itinerary Overview:\n",
       "\n",
       "**Day 1: Arrival in Maui**\n",
       "- Arrive at Kahului Airport (OGG).\n",
       "- Pick up your rental car (recommended for exploring the island).\n",
       "- Check into your beachfront resort (consider staying at the Wailea Beach Resort or The Westin Maui Resort & Spa).\n",
       "- Enjoy a welcome dinner at a local seafood restaurant, such as Mama's Fish House.\n",
       "\n",
       "**Day 2: Beach Day at Wailea**\n",
       "- Spend the day relaxing at Wailea Beach. Enjoy swimming, sunbathing, and snorkeling.\n",
       "- Lunch at a beachside café.\n",
       "- In the evening, take a scenic sunset cruise along the coastline with drinks and appetizers.\n",
       "\n",
       "**Day 3: Road to Hana Adventure**\n",
       "- Set out early for the iconic Road to Hana drive. Stop at:\n",
       "  - Twin Falls for a quick hike and waterfall swim.\n",
       "  - Wai'anapanapa State Park for black sand beaches and coastal views.\n",
       "  - Hāna Lava Tube for an underground cave experience.\n",
       "- Visit the small town of Hana for lunch.\n",
       "- Return to your resort for a relaxing evening.\n",
       "\n",
       "**Day 4: Haleakalā National Park Sunrise**\n",
       "- Early morning wake-up to drive to Haleakalā National Park. Watch the spectacular sunrise above the clouds (make a reservation in advance).\n",
       "- Explore hiking trails in the park or enjoy breakfast at a local spot on the way back.\n",
       "- Afternoon at leisure: relax, swim, or indulging in a spa treatment at your resort.\n",
       "\n",
       "**Day 5: Explore Lahaina**\n",
       "- Head to Lahaina, a historic town with lots of charm.\n",
       "- Visit the famous Banyan Tree Park and browse local shops and art galleries.\n",
       "- Enjoy lunch at the Lahaina Fish Co. with a view of the ocean.\n",
       "- In the afternoon, go on a guided snorkeling tour to Molokini Crater or Turtle Town.\n",
       "\n",
       "**Day 6: Beach Activities or Day Trip**\n",
       "- Option 1: Spend another day at the beach enjoying watersports like paddleboarding, surfing lessons, or scuba diving.\n",
       "- Option 2: Take a day trip to nearby islands like Lanai or Molokai for hiking and exploration.\n",
       "\n",
       "**Day 7: Relaxation and Departure**\n",
       "- Enjoy a leisurely breakfast overlooking the ocean.\n",
       "- Spend your last few hours soaking up the sun at the beach or pool.\n",
       "- Check out and return your rental car.\n",
       "- Depart from Kahului Airport.\n",
       "\n",
       "### Additional Tips:\n",
       "- **Best time to visit:** April to June and September to November for warm weather with less crowd.\n",
       "- **What to pack:** Sunscreen, swimwear, light clothing, flip-flops, a camera, and a light jacket for cooler evenings.\n",
       "- **Activities:** Consider booking a traditional luau for a cultural experience.\n",
       "\n",
       "This itinerary offers a great mix of relaxation, adventure, and beautiful scenery. If you're interested in any particular activities, or have any other preferences, I can adjust the plan accordingly!</div></div>"
      ],
      "text/plain": [
       "<IPython.core.display.HTML object>"
      ]
     },
     "metadata": {},
     "output_type": "display_data"
    }
   ],
   "source": [
    "# Run the Agent\n",
    "from IPython.display import display, HTML\n",
    "\n",
    "\n",
    "async def assistant_run():\n",
    "    # Define the query\n",
    "    user_query = \"Plan me a great sunny vacation\"\n",
    "\n",
    "    # Start building HTML output\n",
    "    html_output = \"<div style='margin-bottom:10px'>\"\n",
    "    html_output += \"<div style='font-weight:bold'>User:</div>\"\n",
    "    html_output += f\"<div style='margin-left:20px'>{user_query}</div>\"\n",
    "    html_output += \"</div>\"\n",
    "\n",
    "    # Execute the agent response\n",
    "    response = await agent.on_messages(\n",
    "        [TextMessage(content=user_query, source=\"user\")],\n",
    "        cancellation_token=CancellationToken(),\n",
    "    )\n",
    "\n",
    "    # Add agent response to HTML\n",
    "    html_output += \"<div style='margin-bottom:20px'>\"\n",
    "    html_output += \"<div style='font-weight:bold'>Assistant:</div>\"\n",
    "    html_output += f\"<div style='margin-left:20px; white-space:pre-wrap'>{response.chat_message.content}</div>\"\n",
    "    html_output += \"</div>\"\n",
    "\n",
    "    # Display formatted HTML\n",
    "    display(HTML(html_output))\n",
    "\n",
    "# Run the function\n",
    "await assistant_run()"
   ]
  },
  {
   "cell_type": "code",
   "execution_count": null,
   "id": "b97919c3-96ce-47d5-9627-40c4fe4bd05c",
   "metadata": {},
   "outputs": [],
   "source": []
  }
 ],
 "metadata": {
  "kernelspec": {
   "display_name": "Python 3 (ipykernel)",
   "language": "python",
   "name": "python3"
  },
  "language_info": {
   "codemirror_mode": {
    "name": "ipython",
    "version": 3
   },
   "file_extension": ".py",
   "mimetype": "text/x-python",
   "name": "python",
   "nbconvert_exporter": "python",
   "pygments_lexer": "ipython3",
   "version": "3.12.4"
  }
 },
 "nbformat": 4,
 "nbformat_minor": 5
}
