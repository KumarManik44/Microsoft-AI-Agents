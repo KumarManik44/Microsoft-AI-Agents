{
 "cells": [
  {
   "cell_type": "code",
   "execution_count": 1,
   "id": "129cde97-699b-4eb8-8e42-a52c7805d323",
   "metadata": {},
   "outputs": [],
   "source": [
    "#Import Libraries\n",
    "import json\n",
    "\n",
    "import requests\n",
    "from autogen_agentchat.agents import AssistantAgent\n",
    "from autogen_core.models import UserMessage\n",
    "from autogen_ext.models.azure import AzureAIChatCompletionClient\n",
    "from azure.core.credentials import AzureKeyCredential\n",
    "from autogen_core import CancellationToken\n",
    "from autogen_core.tools import FunctionTool\n",
    "from autogen_agentchat.messages import TextMessage\n",
    "from autogen_agentchat.ui import Console\n",
    "from typing import Any, Callable, Set, Dict, List, Optional"
   ]
  },
  {
   "cell_type": "code",
   "execution_count": 3,
   "id": "65a685f8-3d52-447d-8d2c-e5b349a39c7f",
   "metadata": {},
   "outputs": [
    {
     "name": "stdout",
     "output_type": "stream",
     "text": [
      "finish_reason='stop' content='The capital of France is Paris.' usage=RequestUsage(prompt_tokens=14, completion_tokens=8) cached=False logprobs=None thought=None\n"
     ]
    }
   ],
   "source": [
    "#Create the client\n",
    "client = AzureAIChatCompletionClient(\n",
    "    model=\"gpt-4o-mini\",\n",
    "    endpoint=\"https://models.inference.ai.azure.com\",\n",
    "    # To authenticate with the model you will need to generate a personal access token (PAT) in your GitHub settings.\n",
    "    # Create your PAT token by following instructions here: https://docs.github.com/en/authentication/keeping-your-account-and-data-secure/managing-your-personal-access-tokens\n",
    "    credential=AzureKeyCredential(\"your_github_token_here\"),\n",
    "    model_info={\n",
    "        \"json_output\": True,\n",
    "        \"function_calling\": True,\n",
    "        \"vision\": True,\n",
    "        \"family\": \"unknown\",\n",
    "    },\n",
    ")\n",
    "\n",
    "result = await client.create([UserMessage(content=\"What is the capital of France?\", source=\"user\")])\n",
    "print(result)"
   ]
  },
  {
   "cell_type": "code",
   "execution_count": 5,
   "id": "48a660e8-7c5d-425b-8d33-e2b330be8c8b",
   "metadata": {},
   "outputs": [
    {
     "name": "stdout",
     "output_type": "stream",
     "text": [
      "How about visiting Barcelona? It's currently Available there!\n",
      "How about visiting Barcelona? It's currently Available there!\n"
     ]
    }
   ],
   "source": [
    "#Define the function\n",
    "from typing import Dict, List, Optional\n",
    "\n",
    "\n",
    "def vacation_destinations(city: str) -> tuple[str, str]:\n",
    "    \"\"\"\n",
    "    Checks if a specific vacation destination is available\n",
    "    \n",
    "    Args:\n",
    "        city (str): Name of the city to check\n",
    "        \n",
    "    Returns:\n",
    "        tuple: Contains city name and availability status ('Available' or 'Unavailable')\n",
    "    \"\"\"\n",
    "    destinations = {\n",
    "        \"Barcelona\": \"Available\",\n",
    "        \"Tokyo\": \"Unavailable\",\n",
    "        \"Cape Town\": \"Available\",\n",
    "        \"Vancouver\": \"Available\",\n",
    "        \"Dubai\": \"Unavailable\",\n",
    "    }\n",
    "\n",
    "    # Make the search case-insensitive\n",
    "    city_key = next((key for key in destinations.keys() if key.lower() == city.lower()), None)\n",
    "    \n",
    "    if city_key:\n",
    "        return city_key, destinations[city_key]\n",
    "    else:\n",
    "        return city, \"City not found\"\n",
    "\n",
    "# Example usage:\n",
    "city, status = vacation_destinations(\"Barcelona\")\n",
    "print(f\"How about visiting {city}? It's currently {status} there!\")\n",
    "\n",
    "# Test case-insensitive search\n",
    "city2, status2 = vacation_destinations(\"barcelona\")\n",
    "print(f\"How about visiting {city2}? It's currently {status2} there!\")"
   ]
  },
  {
   "cell_type": "code",
   "execution_count": 6,
   "id": "23b5f85e-84a9-4a81-8476-e25109f66db8",
   "metadata": {},
   "outputs": [],
   "source": [
    "#Define the function tool\n",
    "get_vacations = FunctionTool(\n",
    "    vacation_destinations, description=\"Search for vacation destinations and if they are available or not.\"\n",
    ")"
   ]
  },
  {
   "cell_type": "code",
   "execution_count": 7,
   "id": "2c31cf18-763d-479b-be6d-51bb69f27608",
   "metadata": {},
   "outputs": [],
   "source": [
    "#Define the Agent\n",
    "agent = AssistantAgent(\n",
    "    name=\"assistant\",\n",
    "    model_client=client,\n",
    "    tools=[get_vacations],\n",
    "    system_message=\"You are a travel agent that helps users find vacation destinations.\",\n",
    "    reflect_on_tool_use=True,\n",
    ")"
   ]
  },
  {
   "cell_type": "code",
   "execution_count": 8,
   "id": "609e93b4-a456-4602-a972-6f24db71a6ba",
   "metadata": {},
   "outputs": [
    {
     "name": "stdout",
     "output_type": "stream",
     "text": [
      "[ToolCallRequestEvent(source='assistant', models_usage=RequestUsage(prompt_tokens=74, completion_tokens=18), metadata={}, created_at=datetime.datetime(2025, 6, 27, 5, 3, 31, 280618, tzinfo=datetime.timezone.utc), content=[FunctionCall(id='call_kMkTN2eBRNEUgR971f8gKDfN', arguments='{\"city\":\"Tokyo\"}', name='vacation_destinations')], type='ToolCallRequestEvent'), ToolCallExecutionEvent(source='assistant', models_usage=None, metadata={}, created_at=datetime.datetime(2025, 6, 27, 5, 3, 31, 289635, tzinfo=datetime.timezone.utc), content=[FunctionExecutionResult(content=\"('Tokyo', 'Unavailable')\", name='vacation_destinations', call_id='call_kMkTN2eBRNEUgR971f8gKDfN', is_error=False)], type='ToolCallExecutionEvent')]\n",
      "source='assistant' models_usage=RequestUsage(prompt_tokens=65, completion_tokens=47) metadata={} created_at=datetime.datetime(2025, 6, 27, 5, 3, 33, 45797, tzinfo=datetime.timezone.utc) content='It seems that Tokyo is currently unavailable for travel. However, I can help you explore alternative destinations or provide information about when Tokyo might be accessible again. Would you like to consider other cities in Japan or perhaps different destinations in Asia?' type='TextMessage'\n"
     ]
    }
   ],
   "source": [
    "#Run the Agent\n",
    "async def assistant_run() -> None:\n",
    "    response = await agent.on_messages(\n",
    "        [TextMessage(content=\"I would like to take a trip to Tokyo\", source=\"user\")],\n",
    "        cancellation_token=CancellationToken(),\n",
    "    )\n",
    "    print(response.inner_messages)\n",
    "    print(response.chat_message)\n",
    "\n",
    "\n",
    "# Use asyncio.run(assistant_run()) when running in a script.\n",
    "await assistant_run()"
   ]
  },
  {
   "cell_type": "code",
   "execution_count": null,
   "id": "795a66db-55fd-426b-bcd5-a9d57f2ac6f0",
   "metadata": {},
   "outputs": [],
   "source": []
  }
 ],
 "metadata": {
  "kernelspec": {
   "display_name": "Python 3 (ipykernel)",
   "language": "python",
   "name": "python3"
  },
  "language_info": {
   "codemirror_mode": {
    "name": "ipython",
    "version": 3
   },
   "file_extension": ".py",
   "mimetype": "text/x-python",
   "name": "python",
   "nbconvert_exporter": "python",
   "pygments_lexer": "ipython3",
   "version": "3.12.4"
  }
 },
 "nbformat": 4,
 "nbformat_minor": 5
}
