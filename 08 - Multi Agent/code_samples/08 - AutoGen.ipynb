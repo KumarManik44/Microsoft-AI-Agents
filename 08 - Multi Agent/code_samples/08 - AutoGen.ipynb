{
 "cells": [
  {
   "cell_type": "code",
   "execution_count": 1,
   "id": "79661b45-d3cc-446a-91c0-fde9bcacbd9c",
   "metadata": {},
   "outputs": [],
   "source": [
    "#Import libraries\n",
    "from autogen_agentchat.agents import AssistantAgent\n",
    "from autogen_core.models import UserMessage\n",
    "from autogen_ext.models.azure import AzureAIChatCompletionClient\n",
    "from azure.core.credentials import AzureKeyCredential\n",
    "from autogen_core import CancellationToken\n",
    "from autogen_agentchat.base import TaskResult\n",
    "\n",
    "from autogen_agentchat.messages import TextMessage\n",
    "from autogen_agentchat.ui import Console\n",
    "\n",
    "\n",
    "from autogen_agentchat.conditions import TextMentionTermination\n",
    "from autogen_agentchat.teams import RoundRobinGroupChat"
   ]
  },
  {
   "cell_type": "code",
   "execution_count": 2,
   "id": "5af27235-4007-4f50-be61-ef63075ad192",
   "metadata": {},
   "outputs": [],
   "source": [
    "client = AzureAIChatCompletionClient(\n",
    "    model=\"gpt-4o-mini\",\n",
    "    endpoint=\"https://models.inference.ai.azure.com\",\n",
    "    # To authenticate with the model you will need to generate a personal access token (PAT) in your GitHub settings.\n",
    "    # Create your PAT token by following instructions here: https://docs.github.com/en/authentication/keeping-your-account-and-data-secure/managing-your-personal-access-tokens\n",
    "    credential=AzureKeyCredential(\"your_github_token_here\"),\n",
    "    model_info={\n",
    "        \"json_output\": True,\n",
    "        \"function_calling\": True,\n",
    "        \"vision\": True,\n",
    "        \"structured_output\": True,\n",
    "        \"family\": \"unknown\",\n",
    "    },\n",
    ")"
   ]
  },
  {
   "cell_type": "code",
   "execution_count": 3,
   "id": "d209d79c-754b-484e-9595-d1ad75edd7d6",
   "metadata": {},
   "outputs": [],
   "source": [
    "frontdesk_agent = AssistantAgent(\n",
    "    \"planner_agent\",\n",
    "    model_client=client,\n",
    "    description=\"A helpful assistant that can plan trips.\",\n",
    "    system_message=\"\"\"\n",
    "    You are a Front Desk Travel Agent with ten years of experience and are known for brevity as you deal with many customers.\n",
    "    The goal is to provide the best activities and locations for a traveler to visit.\n",
    "    Only provide a single recommendation per response.\n",
    "    You're laser focused on the goal at hand.\n",
    "    Don't waste time with chit chat.\n",
    "    Consider suggestions when refining an idea.\"\"\",\n",
    ")\n",
    "\n",
    "concierge_agent = AssistantAgent(\n",
    "    \"concierge_agent\",\n",
    "    model_client=client,\n",
    "    description=\"A local assistant that can suggest local activities or places to visit.\",\n",
    "    system_message=\"\"\"\n",
    "    You are an are hotel concierge who has opinions about providing the most local and authentic experiences for travelers.\n",
    "    The goal is to determine if the front desk travel agent has recommended the best non-touristy experience for a traveler.\n",
    "    If so, respond with 'APPROVE'\n",
    "    If not, provide insight on how to refine the recommendation without using a specific example. \n",
    "    \"\"\",\n",
    ")"
   ]
  },
  {
   "cell_type": "code",
   "execution_count": 7,
   "id": "89d0eb4b-3936-4930-be08-ade062279160",
   "metadata": {},
   "outputs": [
    {
     "name": "stdout",
     "output_type": "stream",
     "text": [
      "source='user' models_usage=None metadata={} created_at=datetime.datetime(2025, 6, 27, 10, 51, 40, 677270, tzinfo=datetime.timezone.utc) content='I would like to plan a trip to Paris.' type='TextMessage'\n",
      "source='planner_agent' models_usage=RequestUsage(prompt_tokens=288, completion_tokens=17) metadata={} created_at=datetime.datetime(2025, 6, 27, 10, 51, 41, 705326, tzinfo=datetime.timezone.utc) content='Visit the Sainte-Chapelle for stunning stained glass windows and a quieter atmosphere.' type='TextMessage'\n",
      "source='concierge_agent' models_usage=RequestUsage(prompt_tokens=327, completion_tokens=66) metadata={} created_at=datetime.datetime(2025, 6, 27, 10, 51, 44, 43164, tzinfo=datetime.timezone.utc) content=\"While Sainte-Chapelle is beautiful and less crowded than some major attractions, it can still be known to tourists. To enhance this recommendation, suggest exploring a hidden church or chapel with unique architectural features or local significance that may not be on the average traveler's radar. This could provide a truly off-the-beaten-path experience.\" type='TextMessage'\n",
      "source='planner_agent' models_usage=RequestUsage(prompt_tokens=377, completion_tokens=22) metadata={} created_at=datetime.datetime(2025, 6, 27, 10, 51, 44, 930478, tzinfo=datetime.timezone.utc) content='Explore the Église Saint-Sulpice, a lesser-known church with impressive architecture and a serene vibe.' type='TextMessage'\n",
      "source='concierge_agent' models_usage=RequestUsage(prompt_tokens=421, completion_tokens=4) metadata={} created_at=datetime.datetime(2025, 6, 27, 10, 51, 45, 710994, tzinfo=datetime.timezone.utc) content='APPROVE' type='TextMessage'\n",
      "Stop Reason: Text 'APPROVE' mentioned\n"
     ]
    }
   ],
   "source": [
    "termination = TextMentionTermination(\"APPROVE\")\n",
    "team = RoundRobinGroupChat(\n",
    "    [frontdesk_agent, concierge_agent], termination_condition=termination\n",
    ")\n",
    "\n",
    "async for message in team.run_stream(task=\"I would like to plan a trip to Paris.\"):\n",
    "    if isinstance(message, TaskResult):\n",
    "        print(\"Stop Reason:\", message.stop_reason)\n",
    "    else:\n",
    "        print(message)"
   ]
  },
  {
   "cell_type": "code",
   "execution_count": null,
   "id": "037651b0-c013-474d-8e9a-9d74a0571e16",
   "metadata": {},
   "outputs": [],
   "source": []
  }
 ],
 "metadata": {
  "kernelspec": {
   "display_name": "Python 3 (ipykernel)",
   "language": "python",
   "name": "python3"
  },
  "language_info": {
   "codemirror_mode": {
    "name": "ipython",
    "version": 3
   },
   "file_extension": ".py",
   "mimetype": "text/x-python",
   "name": "python",
   "nbconvert_exporter": "python",
   "pygments_lexer": "ipython3",
   "version": "3.12.4"
  }
 },
 "nbformat": 4,
 "nbformat_minor": 5
}
