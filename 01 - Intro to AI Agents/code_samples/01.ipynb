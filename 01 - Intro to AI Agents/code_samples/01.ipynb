{
 "cells": [
  {
   "cell_type": "code",
   "execution_count": 1,
   "id": "0beaacc5-355d-4f6b-80c8-990f3f44c33b",
   "metadata": {},
   "outputs": [],
   "source": [
    "#Import libraries\n",
    "import os \n",
    "from typing import Annotated\n",
    "from openai import AsyncOpenAI"
   ]
  },
  {
   "cell_type": "code",
   "execution_count": 2,
   "id": "632c736c-b484-45c1-8dfe-9eea470ea993",
   "metadata": {},
   "outputs": [],
   "source": [
    "from semantic_kernel.agents import ChatCompletionAgent, ChatHistoryAgentThread\n",
    "from semantic_kernel.connectors.ai.open_ai import OpenAIChatCompletion\n",
    "from semantic_kernel.functions import kernel_function"
   ]
  },
  {
   "cell_type": "code",
   "execution_count": 3,
   "id": "01a3a555-667c-486a-9dc8-4dfb0889fbd2",
   "metadata": {},
   "outputs": [],
   "source": [
    "import random   \n",
    "\n",
    "# Define a sample plugin for the sample\n",
    "\n",
    "class DestinationsPlugin:\n",
    "    \"\"\"A List of Random Destinations for a vacation.\"\"\"\n",
    "\n",
    "    def __init__(self):\n",
    "        # List of vacation destinations\n",
    "        self.destinations = [\n",
    "            \"Barcelona, Spain\",\n",
    "            \"Paris, France\",\n",
    "            \"Berlin, Germany\",\n",
    "            \"Tokyo, Japan\",\n",
    "            \"Sydney, Australia\",\n",
    "            \"New York, USA\",\n",
    "            \"Cairo, Egypt\",\n",
    "            \"Cape Town, South Africa\",\n",
    "            \"Rio de Janeiro, Brazil\",\n",
    "            \"Bali, Indonesia\"\n",
    "        ]\n",
    "        # Track last destination to avoid repeats\n",
    "        self.last_destination = None\n",
    "\n",
    "    @kernel_function(description=\"Provides a random vacation destination.\")\n",
    "    def get_random_destination(self) -> Annotated[str, \"Returns a random vacation destination.\"]:\n",
    "        # Get available destinations (excluding last one if possible)\n",
    "        available_destinations = self.destinations.copy()\n",
    "        if self.last_destination and len(available_destinations) > 1:\n",
    "            available_destinations.remove(self.last_destination)\n",
    "\n",
    "        # Select a random destination\n",
    "        destination = random.choice(available_destinations)\n",
    "\n",
    "        # Update the last destination\n",
    "        self.last_destination = destination\n",
    "\n",
    "        return destination"
   ]
  },
  {
   "cell_type": "code",
   "execution_count": 15,
   "id": "5d77e0fb-a984-4f22-9270-026a196fa902",
   "metadata": {},
   "outputs": [],
   "source": [
    "client = AsyncOpenAI(\n",
    "    api_key=\"your_api_key\", \n",
    "    base_url=\"https://models.inference.ai.azure.com/\",\n",
    ")\n",
    "\n",
    "# Create an AI Service that will be used by the `ChatCompletionAgent`\n",
    "chat_completion_service = OpenAIChatCompletion(\n",
    "    ai_model_id=\"gpt-4o-mini\",\n",
    "    async_client=client,\n",
    ")"
   ]
  },
  {
   "cell_type": "code",
   "execution_count": 16,
   "id": "a9e8a6a1-bf78-4242-b9da-169f0ef208e9",
   "metadata": {},
   "outputs": [],
   "source": [
    "#Create the Agent\n",
    "agent = ChatCompletionAgent(\n",
    "    service=chat_completion_service, \n",
    "    plugins=[DestinationsPlugin()],\n",
    "    name=\"TravelAgent\",\n",
    "    instructions=\"You are a helpful AI Agent that can help plan vacations for customers at random destinations\",\n",
    ")"
   ]
  },
  {
   "cell_type": "code",
   "execution_count": 17,
   "id": "88b39455-d1af-4665-9ae7-3af9e1d0c6e9",
   "metadata": {},
   "outputs": [
    {
     "name": "stdout",
     "output_type": "stream",
     "text": [
      "# User: Plan me a day trip.\n",
      "\n",
      "# TravelAgent: How about a day trip to Barcelona, Spain? Here’s a suggested itinerary for you:\n",
      "\n",
      "### Morning\n",
      "- **Breakfast at a Local Café**: Start your day with a traditional Spanish breakfast at a local café. Try \"pan con tomate\" (bread with tomato) and a coffee.\n",
      "- **Visit Park Güell**: Explore this vibrant park designed by Antoni Gaudí, filled with beautiful mosaics, gardens, and stunning views of the city.\n",
      "\n",
      "### Midday\n",
      "- **Lunch at Mercat de Sant Josep de la Boqueria**: Head to La Boqueria market for lunch. Enjoy fresh tapas and the local delicacies from various stalls.\n",
      "- **Walk along La Rambla**: Stroll down this famous street, where you can do some shopping, enjoy street performances, and soak in the lively atmosphere.\n",
      "\n",
      "### Afternoon\n",
      "- **Sagrada Familia**: Visit the iconic basilica. Make sure to book tickets in advance to skip the lines.\n",
      "- **Explore the Gothic Quarter**: Wander through the narrow streets, visit the Barcelona Cathedral, and discover unique shops and cafés.\n",
      "\n",
      "### Evening\n",
      "- **Dinner in El Born**: Enjoy dinner at a restaurant in the El Born district, known for its excellent cuisine and tapas bars.\n",
      "- **Evening Stroll at the Beach**: End your day with a relaxing walk along Barceloneta Beach, where you can enjoy the sunset.\n",
      "\n",
      "### Tips\n",
      "- Wear comfortable shoes as you’ll be walking a lot.\n",
      "- Consider using public transport like metro or buses to get around quickly.\n",
      "\n",
      "Enjoy your trip to Barcelona! If you have any specific preferences or activities in mind, let me know!\n"
     ]
    }
   ],
   "source": [
    "#Run the Agent\n",
    "async def main():\n",
    "    # Create a new thread for the agent\n",
    "    # If no thread is provided, a new thread will be\n",
    "    # created and returned with the initial response\n",
    "    thread: ChatHistoryAgentThread | None = None\n",
    "\n",
    "    user_inputs = [\n",
    "        \"Plan me a day trip.\",\n",
    "    ]\n",
    "\n",
    "    for user_input in user_inputs:\n",
    "        print(f\"# User: {user_input}\\n\")\n",
    "        first_chunk = True\n",
    "        async for response in agent.invoke_stream(\n",
    "            messages=user_input, thread=thread,\n",
    "        ):\n",
    "            # 5. Print the response\n",
    "            if first_chunk:\n",
    "                print(f\"# {response.name}: \", end=\"\", flush=True)\n",
    "                first_chunk = False\n",
    "            print(f\"{response}\", end=\"\", flush=True)\n",
    "            thread = response.thread\n",
    "        print()\n",
    "\n",
    "    # Clean up the thread\n",
    "    await thread.delete() if thread else None\n",
    "\n",
    "await main()"
   ]
  },
  {
   "cell_type": "code",
   "execution_count": null,
   "id": "dafe10c4-52fe-42c4-b386-38a2e3d9c46e",
   "metadata": {},
   "outputs": [],
   "source": []
  }
 ],
 "metadata": {
  "kernelspec": {
   "display_name": "Python 3 (ipykernel)",
   "language": "python",
   "name": "python3"
  },
  "language_info": {
   "codemirror_mode": {
    "name": "ipython",
    "version": 3
   },
   "file_extension": ".py",
   "mimetype": "text/x-python",
   "name": "python",
   "nbconvert_exporter": "python",
   "pygments_lexer": "ipython3",
   "version": "3.12.4"
  }
 },
 "nbformat": 4,
 "nbformat_minor": 5
}
